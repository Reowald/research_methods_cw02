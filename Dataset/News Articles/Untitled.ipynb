{
 "cells": [
  {
   "cell_type": "code",
   "execution_count": null,
   "id": "3b411bc3",
   "metadata": {},
   "outputs": [],
   "source": [
    "#pip install newspaper3k\n",
    "\n",
    "import newspaper\n",
    "from newspaper import Article\n",
    "\n",
    "def news_article_scraper(domain:str, folder_path:str, source_name:str):\n",
    "    \"\"\"\n",
    "    Parameters:\n",
    "    ----------\n",
    "    domain: main url of news website\n",
    "    folder_path: path to folder you want to download the articles to\n",
    "    source_name: name of news website to appear at start of file name\n",
    "    \n",
    "    \"\"\"\n",
    "    #build \"newspaper\" by finding all urls from domain\n",
    "    news_site = newspaper.build(domain, memoize_articles=False)\n",
    "\n",
    "    #get list of articles within site - urls\n",
    "    articles = news_site.articles\n",
    "\n",
    "    #loop through list of articles\n",
    "    for i, article in enumerate(articles):\n",
    "        # download from website\n",
    "        article.download()\n",
    "        #read article to be able to get text\n",
    "        article.parse()\n",
    "        #get only text from article\n",
    "        text = article.text\n",
    "\n",
    "\n",
    "        #create a text file in output folder path with name source and number of article\n",
    "        #put a try except so that any articles with weird characters get skipped\n",
    "        try:\n",
    "            with open(f'{folder_path}/{source_name}_{i}.txt', 'w') as file:\n",
    "                # Write the text content to the file\n",
    "                file.write(text)\n",
    "        except:\n",
    "            pass\n",
    "\n",
    "\n",
    "news_article_scraper(\n",
    "    domain = 'https://www.mirror.co.uk/',\n",
    "    folder_path = r'C:\\Users\\sophiej\\OneDrive - Norwich City Football Club\\Documents 1\\Projects\\Untracked Data\\news',\n",
    "    source_name = 'mirror'\n",
    ")"
   ]
  }
 ],
 "metadata": {
  "kernelspec": {
   "display_name": "Python 3 (ipykernel)",
   "language": "python",
   "name": "python3"
  },
  "language_info": {
   "codemirror_mode": {
    "name": "ipython",
    "version": 3
   },
   "file_extension": ".py",
   "mimetype": "text/x-python",
   "name": "python",
   "nbconvert_exporter": "python",
   "pygments_lexer": "ipython3",
   "version": "3.9.13"
  }
 },
 "nbformat": 4,
 "nbformat_minor": 5
}
